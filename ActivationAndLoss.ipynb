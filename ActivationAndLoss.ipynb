{
  "nbformat": 4,
  "nbformat_minor": 0,
  "metadata": {
    "colab": {
      "provenance": [],
      "authorship_tag": "ABX9TyPMWg387dImEojT29QMifcl",
      "include_colab_link": true
    },
    "kernelspec": {
      "name": "python3",
      "display_name": "Python 3"
    },
    "language_info": {
      "name": "python"
    }
  },
  "cells": [
    {
      "cell_type": "markdown",
      "metadata": {
        "id": "view-in-github",
        "colab_type": "text"
      },
      "source": [
        "<a href=\"https://colab.research.google.com/github/monolixd/Ailearn/blob/main/ActivationAndLoss.ipynb\" target=\"_parent\"><img src=\"https://colab.research.google.com/assets/colab-badge.svg\" alt=\"Open In Colab\"/></a>"
      ]
    },
    {
      "cell_type": "markdown",
      "source": [
        "## 1. ตัวอย่างการใช้ Activation Functions ใน Dense Layer"
      ],
      "metadata": {
        "id": "JoyDIkKMn1pl"
      }
    },
    {
      "cell_type": "code",
      "execution_count": 1,
      "metadata": {
        "colab": {
          "base_uri": "https://localhost:8080/",
          "height": 293
        },
        "id": "kIJwoYXcntzD",
        "outputId": "799f0019-33b5-4d8c-9dc9-d8b9f84ba5f0"
      },
      "outputs": [
        {
          "output_type": "stream",
          "name": "stderr",
          "text": [
            "/usr/local/lib/python3.11/dist-packages/keras/src/layers/core/dense.py:87: UserWarning: Do not pass an `input_shape`/`input_dim` argument to a layer. When using Sequential models, prefer using an `Input(shape)` object as the first layer in the model instead.\n",
            "  super().__init__(activity_regularizer=activity_regularizer, **kwargs)\n"
          ]
        },
        {
          "output_type": "display_data",
          "data": {
            "text/plain": [
              "\u001b[1mModel: \"sequential\"\u001b[0m\n"
            ],
            "text/html": [
              "<pre style=\"white-space:pre;overflow-x:auto;line-height:normal;font-family:Menlo,'DejaVu Sans Mono',consolas,'Courier New',monospace\"><span style=\"font-weight: bold\">Model: \"sequential\"</span>\n",
              "</pre>\n"
            ]
          },
          "metadata": {}
        },
        {
          "output_type": "display_data",
          "data": {
            "text/plain": [
              "┏━━━━━━━━━━━━━━━━━━━━━━━━━━━━━━━━━━━━━━┳━━━━━━━━━━━━━━━━━━━━━━━━━━━━━┳━━━━━━━━━━━━━━━━━┓\n",
              "┃\u001b[1m \u001b[0m\u001b[1mLayer (type)                        \u001b[0m\u001b[1m \u001b[0m┃\u001b[1m \u001b[0m\u001b[1mOutput Shape               \u001b[0m\u001b[1m \u001b[0m┃\u001b[1m \u001b[0m\u001b[1m        Param #\u001b[0m\u001b[1m \u001b[0m┃\n",
              "┡━━━━━━━━━━━━━━━━━━━━━━━━━━━━━━━━━━━━━━╇━━━━━━━━━━━━━━━━━━━━━━━━━━━━━╇━━━━━━━━━━━━━━━━━┩\n",
              "│ dense (\u001b[38;5;33mDense\u001b[0m)                        │ (\u001b[38;5;45mNone\u001b[0m, \u001b[38;5;34m64\u001b[0m)                  │           \u001b[38;5;34m6,464\u001b[0m │\n",
              "├──────────────────────────────────────┼─────────────────────────────┼─────────────────┤\n",
              "│ dense_1 (\u001b[38;5;33mDense\u001b[0m)                      │ (\u001b[38;5;45mNone\u001b[0m, \u001b[38;5;34m32\u001b[0m)                  │           \u001b[38;5;34m2,080\u001b[0m │\n",
              "├──────────────────────────────────────┼─────────────────────────────┼─────────────────┤\n",
              "│ dense_2 (\u001b[38;5;33mDense\u001b[0m)                      │ (\u001b[38;5;45mNone\u001b[0m, \u001b[38;5;34m10\u001b[0m)                  │             \u001b[38;5;34m330\u001b[0m │\n",
              "└──────────────────────────────────────┴─────────────────────────────┴─────────────────┘\n"
            ],
            "text/html": [
              "<pre style=\"white-space:pre;overflow-x:auto;line-height:normal;font-family:Menlo,'DejaVu Sans Mono',consolas,'Courier New',monospace\">┏━━━━━━━━━━━━━━━━━━━━━━━━━━━━━━━━━━━━━━┳━━━━━━━━━━━━━━━━━━━━━━━━━━━━━┳━━━━━━━━━━━━━━━━━┓\n",
              "┃<span style=\"font-weight: bold\"> Layer (type)                         </span>┃<span style=\"font-weight: bold\"> Output Shape                </span>┃<span style=\"font-weight: bold\">         Param # </span>┃\n",
              "┡━━━━━━━━━━━━━━━━━━━━━━━━━━━━━━━━━━━━━━╇━━━━━━━━━━━━━━━━━━━━━━━━━━━━━╇━━━━━━━━━━━━━━━━━┩\n",
              "│ dense (<span style=\"color: #0087ff; text-decoration-color: #0087ff\">Dense</span>)                        │ (<span style=\"color: #00d7ff; text-decoration-color: #00d7ff\">None</span>, <span style=\"color: #00af00; text-decoration-color: #00af00\">64</span>)                  │           <span style=\"color: #00af00; text-decoration-color: #00af00\">6,464</span> │\n",
              "├──────────────────────────────────────┼─────────────────────────────┼─────────────────┤\n",
              "│ dense_1 (<span style=\"color: #0087ff; text-decoration-color: #0087ff\">Dense</span>)                      │ (<span style=\"color: #00d7ff; text-decoration-color: #00d7ff\">None</span>, <span style=\"color: #00af00; text-decoration-color: #00af00\">32</span>)                  │           <span style=\"color: #00af00; text-decoration-color: #00af00\">2,080</span> │\n",
              "├──────────────────────────────────────┼─────────────────────────────┼─────────────────┤\n",
              "│ dense_2 (<span style=\"color: #0087ff; text-decoration-color: #0087ff\">Dense</span>)                      │ (<span style=\"color: #00d7ff; text-decoration-color: #00d7ff\">None</span>, <span style=\"color: #00af00; text-decoration-color: #00af00\">10</span>)                  │             <span style=\"color: #00af00; text-decoration-color: #00af00\">330</span> │\n",
              "└──────────────────────────────────────┴─────────────────────────────┴─────────────────┘\n",
              "</pre>\n"
            ]
          },
          "metadata": {}
        },
        {
          "output_type": "display_data",
          "data": {
            "text/plain": [
              "\u001b[1m Total params: \u001b[0m\u001b[38;5;34m8,874\u001b[0m (34.66 KB)\n"
            ],
            "text/html": [
              "<pre style=\"white-space:pre;overflow-x:auto;line-height:normal;font-family:Menlo,'DejaVu Sans Mono',consolas,'Courier New',monospace\"><span style=\"font-weight: bold\"> Total params: </span><span style=\"color: #00af00; text-decoration-color: #00af00\">8,874</span> (34.66 KB)\n",
              "</pre>\n"
            ]
          },
          "metadata": {}
        },
        {
          "output_type": "display_data",
          "data": {
            "text/plain": [
              "\u001b[1m Trainable params: \u001b[0m\u001b[38;5;34m8,874\u001b[0m (34.66 KB)\n"
            ],
            "text/html": [
              "<pre style=\"white-space:pre;overflow-x:auto;line-height:normal;font-family:Menlo,'DejaVu Sans Mono',consolas,'Courier New',monospace\"><span style=\"font-weight: bold\"> Trainable params: </span><span style=\"color: #00af00; text-decoration-color: #00af00\">8,874</span> (34.66 KB)\n",
              "</pre>\n"
            ]
          },
          "metadata": {}
        },
        {
          "output_type": "display_data",
          "data": {
            "text/plain": [
              "\u001b[1m Non-trainable params: \u001b[0m\u001b[38;5;34m0\u001b[0m (0.00 B)\n"
            ],
            "text/html": [
              "<pre style=\"white-space:pre;overflow-x:auto;line-height:normal;font-family:Menlo,'DejaVu Sans Mono',consolas,'Courier New',monospace\"><span style=\"font-weight: bold\"> Non-trainable params: </span><span style=\"color: #00af00; text-decoration-color: #00af00\">0</span> (0.00 B)\n",
              "</pre>\n"
            ]
          },
          "metadata": {}
        }
      ],
      "source": [
        "import tensorflow as tf\n",
        "from tensorflow.keras import Sequential\n",
        "from tensorflow.keras.layers import Dense\n",
        "\n",
        "# สร้างโมเดลแบบ Sequential\n",
        "model = Sequential([\n",
        "    Dense(64, activation='relu', input_shape=(100,)),  # ReLU\n",
        "    Dense(32, activation='sigmoid'),                  # Sigmoid\n",
        "    Dense(10, activation='softmax')                   # Softmax\n",
        "])\n",
        "\n",
        "# แสดงสรุปโมเดล\n",
        "model.summary()"
      ]
    },
    {
      "cell_type": "markdown",
      "source": [
        "Output นี้แสดง Summary ของโครงสร้างโมเดล Neural Network โดยอธิบายลักษณะของแต่ละเลเยอร์ในโมเดล และจำนวนพารามิเตอร์ที่ใช้ในการเทรนโมเดล โดยมีรายละเอียดดังนี้:\n",
        "\n",
        "Column 1: Layer (type)\n",
        "\n",
        "แสดงชื่อเลเยอร์และประเภทเลเยอร์ที่ใช้ (ในที่นี้ใช้ Dense layers ทั้งหมด ซึ่งเป็น Fully Connected Layers)\n",
        "Column 2: Output Shape\n",
        "\n",
        "แสดงขนาดของ Output ที่ได้จากแต่ละเลเยอร์\n",
        "(None, 64) หมายถึง ข้อมูลมี 64 units/output neurons (ค่า None คือ Batch Size ที่สามารถปรับเปลี่ยนได้)\n",
        "Column 3: Param #\n",
        "\n",
        "แสดงจำนวนพารามิเตอร์ (Parameters) ที่ใช้ในแต่ละเลเยอร์\n",
        "จำนวนนี้คิดจากการคูณระหว่าง input features และ output neurons รวมกับ bias parameters\n",
        "ตัวอย่าง:\n",
        "Dense (64 units): (input_features + 1) * output_units = (100 + 1) * 64 = 6,464\n",
        "Dense_1 (32 units): (64 + 1) * 32 = 2,080\n",
        "Dense_2 (10 units): (32 + 1) * 10 = 330\n",
        "Summary ของพารามิเตอร์\n",
        "\n",
        "Total params: จำนวนพารามิเตอร์ทั้งหมดในโมเดล = 8,874\n",
        "Trainable params: จำนวนพารามิเตอร์ที่สามารถปรับปรุงได้ผ่านการเทรน = 8,874\n",
        "Non-trainable params: พารามิเตอร์ที่ไม่ถูกปรับในระหว่างการเทรน (ไม่มีในโมเดลนี้ = 0)"
      ],
      "metadata": {
        "id": "22AxwUnloVVW"
      }
    },
    {
      "cell_type": "markdown",
      "source": [
        "## 2. การใช้ Activation Functions แบบกำหนดเอง"
      ],
      "metadata": {
        "id": "zt9sv-Q3oo6x"
      }
    },
    {
      "cell_type": "code",
      "source": [
        "from tensorflow.keras import activations\n",
        "\n",
        "# ใช้ Activation Function ในโค้ดแบบกำหนดเอง\n",
        "relu_output = activations.relu([-3.0, 0.0, 3.0])  # ค่า Output: [0.0, 0.0, 3.0]\n",
        "sigmoid_output = activations.sigmoid([-3.0, 0.0, 3.0])  # ค่า Output: [0.047, 0.5, 0.952]\n",
        "print(\"ReLU Output:\", relu_output.numpy())\n",
        "print(\"Sigmoid Output:\", sigmoid_output.numpy())"
      ],
      "metadata": {
        "id": "YQlptT5Xn5lc"
      },
      "execution_count": null,
      "outputs": []
    },
    {
      "cell_type": "markdown",
      "source": [
        "activations.relu: แปลงค่าที่น้อยกว่า 0 ให้เป็น 0<br>\n",
        "activations.sigmoid: แปลงค่าทั้งหมดให้อยู่ในช่วง (0, 1)"
      ],
      "metadata": {
        "id": "xlK3X7BtotI-"
      }
    },
    {
      "cell_type": "code",
      "source": [],
      "metadata": {
        "id": "Zv1IHlBEotrt"
      },
      "execution_count": null,
      "outputs": []
    }
  ]
}