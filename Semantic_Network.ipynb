{
  "nbformat": 4,
  "nbformat_minor": 0,
  "metadata": {
    "colab": {
      "provenance": [],
      "gpuType": "T4",
      "authorship_tag": "ABX9TyPDOv+FKzDfO32ed2tg/foE",
      "include_colab_link": true
    },
    "kernelspec": {
      "name": "python3",
      "display_name": "Python 3"
    },
    "language_info": {
      "name": "python"
    }
  },
  "cells": [
    {
      "cell_type": "markdown",
      "metadata": {
        "id": "view-in-github",
        "colab_type": "text"
      },
      "source": [
        "<a href=\"https://colab.research.google.com/github/monolixd/Ailearn/blob/main/Semantic_Network.ipynb\" target=\"_parent\"><img src=\"https://colab.research.google.com/assets/colab-badge.svg\" alt=\"Open In Colab\"/></a>"
      ]
    },
    {
      "cell_type": "code",
      "execution_count": 1,
      "metadata": {
        "colab": {
          "base_uri": "https://localhost:8080/"
        },
        "id": "lBYn9OCM6IOd",
        "outputId": "0fc0f6f5-c916-46a3-a29e-3a0d774bf0b0"
      },
      "outputs": [
        {
          "output_type": "stream",
          "name": "stdout",
          "text": [
            "Mounted at /content/drive\n"
          ]
        }
      ],
      "source": [
        "from google.colab import drive\n",
        "drive.mount('/content/drive')"
      ]
    },
    {
      "cell_type": "markdown",
      "source": [
        "# การแทนความรู้ด้วยเครือข่ายเชิงความหมาย Semantic Network"
      ],
      "metadata": {
        "id": "r3KGEcbB-ZZc"
      }
    },
    {
      "cell_type": "code",
      "source": [
        "import networkx as nx\n",
        "import matplotlib.pyplot as plt"
      ],
      "metadata": {
        "id": "6rEwc6iW6tP_"
      },
      "execution_count": 8,
      "outputs": []
    },
    {
      "cell_type": "code",
      "source": [
        "G = nx.DiGraph()"
      ],
      "metadata": {
        "id": "IKEqCIcJ-5aJ"
      },
      "execution_count": 9,
      "outputs": []
    },
    {
      "cell_type": "code",
      "source": [
        "G.add_edge(\"Dog\",\"Mammal\",labe=\"Is a type of\")\n",
        "G.add_edge(\"Mammal\",\"Animal\", label=\"Is a type of\")\n",
        "G.add_edge(\"Dog\",\"Pet\",lable=\"Is\")"
      ],
      "metadata": {
        "id": "rvns3NyT_DXJ"
      },
      "execution_count": 10,
      "outputs": []
    },
    {
      "cell_type": "code",
      "source": [
        "pos=nx.spring_layout(G)\n",
        "nx.draw(G,pos,with_labels=True, node_size=3000)\n",
        "edge_labels=nx.get_edge_attributes(G,\"label\")\n",
        "nx.draw_networkx_edge_labels(G,pos,edge_labels=edge_labels)\n",
        "plt.show()"
      ],
      "metadata": {
        "colab": {
          "base_uri": "https://localhost:8080/",
          "height": 516
        },
        "id": "-KyKnHLuADiV",
        "outputId": "30c5475f-fbd9-4731-defb-c62402fc2880"
      },
      "execution_count": 12,
      "outputs": [
        {
          "output_type": "display_data",
          "data": {
            "text/plain": [
              "<Figure size 640x480 with 1 Axes>"
            ],
            "image/png": "[encoded data removed]"
          },
          "metadata": {}
        }
      ]
    },
    {
      "cell_type": "markdown",
      "source": [
        "# ใช้ Logic เชิงประพจน์ในการแก้ปัญหา"
      ],
      "metadata": {
        "id": "jl7IWdvMC15E"
      }
    },
    {
      "cell_type": "code",
      "source": [
        "from sympy.logic.boolalg import Implies\n",
        "from sympy import symbols\n",
        "\n",
        "P = symbols(\"P\") #ฝนตก\n",
        "Q = symbols(\"Q\") #ถนนเปียก\n",
        "\n",
        "#การสร้างกฏตรรกะ\n",
        "rule = Implies(P,Q)"
      ],
      "metadata": {
        "id": "EaBzamahA3Tc"
      },
      "execution_count": 13,
      "outputs": []
    },
    {
      "cell_type": "code",
      "source": [
        "print({rule})"
      ],
      "metadata": {
        "colab": {
          "base_uri": "https://localhost:8080/"
        },
        "id": "yC3-95wzDmLm",
        "outputId": "a2e7083c-8d87-4fb9-ff50-79d2081e472a"
      },
      "execution_count": 14,
      "outputs": [
        {
          "output_type": "stream",
          "name": "stdout",
          "text": [
            "{Implies(P, Q)}\n"
          ]
        }
      ]
    },
    {
      "cell_type": "code",
      "source": [
        "print(rule.subs({P: True, Q: True}))"
      ],
      "metadata": {
        "colab": {
          "base_uri": "https://localhost:8080/"
        },
        "id": "-1-9Fl81ETRD",
        "outputId": "5f1438e6-2d2a-47fe-ce91-c14d41dc2f56"
      },
      "execution_count": 15,
      "outputs": [
        {
          "output_type": "stream",
          "name": "stdout",
          "text": [
            "True\n"
          ]
        }
      ]
    },
    {
      "cell_type": "code",
      "source": [],
      "metadata": {
        "id": "m_35OhMPEVF-"
      },
      "execution_count": null,
      "outputs": []
    }
  ]
}