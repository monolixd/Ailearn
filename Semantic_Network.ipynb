{
  "nbformat": 4,
  "nbformat_minor": 0,
  "metadata": {
    "colab": {
      "provenance": [],
      "gpuType": "T4",
      "authorship_tag": "ABX9TyOinsfUh21875+NQkYay+8c",
      "include_colab_link": true
    },
    "kernelspec": {
      "name": "python3",
      "display_name": "Python 3"
    },
    "language_info": {
      "name": "python"
    }
  },
  "cells": [
    {
      "cell_type": "markdown",
      "metadata": {
        "id": "view-in-github",
        "colab_type": "text"
      },
      "source": [
        "<a href=\"https://colab.research.google.com/github/monolixd/Ailearn/blob/main/Semantic_Network.ipynb\" target=\"_parent\"><img src=\"https://colab.research.google.com/assets/colab-badge.svg\" alt=\"Open In Colab\"/></a>"
      ]
    },
    {
      "cell_type": "code",
      "execution_count": 1,
      "metadata": {
        "colab": {
          "base_uri": "https://localhost:8080/"
        },
        "id": "lBYn9OCM6IOd",
        "outputId": "0fc0f6f5-c916-46a3-a29e-3a0d774bf0b0"
      },
      "outputs": [
        {
          "output_type": "stream",
          "name": "stdout",
          "text": [
            "Mounted at /content/drive\n"
          ]
        }
      ],
      "source": [
        "from google.colab import drive\n",
        "drive.mount('/content/drive')"
      ]
    },
    {
      "cell_type": "markdown",
      "source": [
        "# การแทนความรู้ด้วยเครือข่ายเชิงความหมาย Semantic Network"
      ],
      "metadata": {
        "id": "r3KGEcbB-ZZc"
      }
    },
    {
      "cell_type": "code",
      "source": [
        "import networkx as nx\n",
        "import matplotlib.pyplot as plt"
      ],
      "metadata": {
        "id": "6rEwc6iW6tP_"
      },
      "execution_count": 8,
      "outputs": []
    },
    {
      "cell_type": "code",
      "source": [
        "G = nx.DiGraph()"
      ],
      "metadata": {
        "id": "IKEqCIcJ-5aJ"
      },
      "execution_count": 9,
      "outputs": []
    },
    {
      "cell_type": "code",
      "source": [
        "G.add_edge(\"Dog\",\"Mammal\",labe=\"Is a type of\")\n",
        "G.add_edge(\"Mammal\",\"Animal\", label=\"Is a type of\")\n",
        "G.add_edge(\"Dog\",\"Pet\",lable=\"Is\")"
      ],
      "metadata": {
        "id": "rvns3NyT_DXJ"
      },
      "execution_count": 10,
      "outputs": []
    },
    {
      "cell_type": "code",
      "source": [
        "pos=nx.spring_layout(G)\n",
        "nx.draw(G,pos,with_labels=True, node_size=3000)\n",
        "edge_labels=nx.get_edge_attributes(G,\"label\")\n",
        "nx.draw_networkx_edge_labels(G,pos,edge_labels=edge_labels)\n",
        "plt.show()"
      ],
      "metadata": {
        "colab": {
          "base_uri": "https://localhost:8080/",
          "height": 516
        },
        "id": "-KyKnHLuADiV",
        "outputId": "30c5475f-fbd9-4731-defb-c62402fc2880"
      },
      "execution_count": 12,
      "outputs": [
        {
          "output_type": "display_data",
          "data": {
            "text/plain": [
              "<Figure size 640x480 with 1 Axes>"
            ],
            "image/png": "[encoded data removed]"
          },
          "metadata": {}
        }
      ]
    },
    {
      "cell_type": "markdown",
      "source": [
        "# ใช้ Logic เชิงประพจน์ในการแก้ปัญหา"
      ],
      "metadata": {
        "id": "jl7IWdvMC15E"
      }
    },
    {
      "cell_type": "code",
      "source": [
        "from sympy.logic.boolalg import Implies\n",
        "from sympy import symbols\n",
        "\n",
        "P = symbols(\"P\") #ฝนตก\n",
        "Q = symbols(\"Q\") #ถนนเปียก\n",
        "\n",
        "#การสร้างกฏตรรกะ\n",
        "rule = Implies(P,Q)"
      ],
      "metadata": {
        "id": "EaBzamahA3Tc"
      },
      "execution_count": 13,
      "outputs": []
    },
    {
      "cell_type": "code",
      "source": [
        "print({rule})"
      ],
      "metadata": {
        "colab": {
          "base_uri": "https://localhost:8080/"
        },
        "id": "yC3-95wzDmLm",
        "outputId": "a2e7083c-8d87-4fb9-ff50-79d2081e472a"
      },
      "execution_count": 14,
      "outputs": [
        {
          "output_type": "stream",
          "name": "stdout",
          "text": [
            "{Implies(P, Q)}\n"
          ]
        }
      ]
    },
    {
      "cell_type": "code",
      "source": [
        "print(rule.subs({P: True, Q: True}))"
      ],
      "metadata": {
        "colab": {
          "base_uri": "https://localhost:8080/"
        },
        "id": "-1-9Fl81ETRD",
        "outputId": "5f1438e6-2d2a-47fe-ce91-c14d41dc2f56"
      },
      "execution_count": 15,
      "outputs": [
        {
          "output_type": "stream",
          "name": "stdout",
          "text": [
            "True\n"
          ]
        }
      ]
    },
    {
      "cell_type": "markdown",
      "source": [
        "# ระบบผู้เชี่ยวชาญวินิจฉัยโรค(ตัวอย่าง)"
      ],
      "metadata": {
        "id": "qIHD7MKdH0Cw"
      }
    },
    {
      "cell_type": "code",
      "source": [
        "def diagnose(symptoms):\n",
        "    symptoms = [s.strip() for s in symptoms]  # ลบช่องว่างรอบๆ แต่ละอาการ\n",
        "\n",
        "    if \"ไข้\" in symptoms and \"ไอ\" in symptoms:\n",
        "        return \"อาจเป็นไข้หวัด\"\n",
        "    elif \"ไข้\" in symptoms and \"ปวดหัว\" in symptoms:\n",
        "        return \"อาจเป็นไข้เลือดออก\"\n",
        "    else:\n",
        "        return \"ไม่สามารถวินิจฉัยได้\"\n",
        "\n",
        "# รับข้อมูลจากผู้ใช้\n",
        "symptoms = input(\"กรุณาป้อนอาการที่คุณมี (เช่น ไข้, ไอ, ปวดหัว): \").split(\",\")\n",
        "symptoms = [s.strip() for s in symptoms]  # ลบช่องว่างรอบๆ ข้อมูลที่ป้อนเข้ามา\n",
        "\n",
        "result = diagnose(symptoms)\n",
        "print(f\"ผลการวินิจฉัย: {result}\")"
      ],
      "metadata": {
        "colab": {
          "base_uri": "https://localhost:8080/"
        },
        "id": "m_35OhMPEVF-",
        "outputId": "7e822571-4c78-4cd6-b92e-a15c1f8c4eea"
      },
      "execution_count": 19,
      "outputs": [
        {
          "output_type": "stream",
          "name": "stdout",
          "text": [
            "กรุณาป้อนอาการที่คุณมี (เช่น ไข้, ไอ, ปวดหัว): ไข้,ไอ\n",
            "ผลการวินิจฉัย: อาจเป็นไข้หวัด\n"
          ]
        }
      ]
    },
    {
      "cell_type": "markdown",
      "source": [
        "# งานข้อ 1"
      ],
      "metadata": {
        "id": "HHCloxhiIoIB"
      }
    },
    {
      "cell_type": "markdown",
      "source": [
        "# ระบบแนะนำสัตว์เลี้ยง"
      ],
      "metadata": {
        "id": "7ukjeLNBJX4g"
      }
    },
    {
      "cell_type": "code",
      "source": [
        "!apt-get install graphviz\n",
        "!pip install graphviz\n",
        "import graphviz"
      ],
      "metadata": {
        "colab": {
          "base_uri": "https://localhost:8080/"
        },
        "id": "uDueeOwkH6ye",
        "outputId": "8ccb0793-f949-4270-b0b5-472bc8659cca"
      },
      "execution_count": 20,
      "outputs": [
        {
          "output_type": "stream",
          "name": "stdout",
          "text": [
            "Reading package lists... Done\n",
            "Building dependency tree... Done\n",
            "Reading state information... Done\n",
            "graphviz is already the newest version (2.42.2-6ubuntu0.1).\n",
            "0 upgraded, 0 newly installed, 0 to remove and 18 not upgraded.\n",
            "Requirement already satisfied: graphviz in /usr/local/lib/python3.11/dist-packages (0.20.3)\n"
          ]
        }
      ]
    },
    {
      "cell_type": "markdown",
      "source": [
        "## สร้าง Semantic Network ของสัตว์เลี้ยง"
      ],
      "metadata": {
        "id": "GLJcnpiKJhnB"
      }
    },
    {
      "cell_type": "code",
      "source": [
        "# นำเข้าไลบรารี\n",
        "from graphviz import Digraph\n",
        "\n",
        "# สร้างเครือข่ายเชิงความหมาย\n",
        "net = Digraph(\"Pet_Semantic_Network\")\n",
        "\n",
        "# เพิ่มโหนด (สัตว์เลี้ยงแต่ละชนิด)\n",
        "net.node(\"สัตว์เลี้ยง\", shape=\"box\", color=\"blue\")\n",
        "net.node(\"สุนัข\", shape=\"ellipse\", color=\"red\")\n",
        "net.node(\"แมว\", shape=\"ellipse\", color=\"red\")\n",
        "net.node(\"นก\", shape=\"ellipse\", color=\"red\")\n",
        "\n",
        "# เพิ่มความสัมพันธ์ (Edges)\n",
        "net.edge(\"สัตว์เลี้ยง\", \"สุนัข\", label=\"เป็นประเภทของ\")\n",
        "net.edge(\"สัตว์เลี้ยง\", \"แมว\", label=\"เป็นประเภทของ\")\n",
        "net.edge(\"สัตว์เลี้ยง\", \"นก\", label=\"เป็นประเภทของ\")\n",
        "\n",
        "# คุณลักษณะของสัตว์\n",
        "net.edge(\"สุนัข\", \"ขน\", label=\"มี\")\n",
        "net.edge(\"แมว\", \"ขน\", label=\"มี\")\n",
        "net.edge(\"นก\", \"ปีก\", label=\"มี\")\n",
        "\n",
        "# พฤติกรรมของสัตว์\n",
        "net.edge(\"สุนัข\", \"วิ่งเล่น\", label=\"ชอบ\")\n",
        "net.edge(\"แมว\", \"ปีน\", label=\"ชอบ\")\n",
        "net.edge(\"นก\", \"บิน\", label=\"สามารถ\")\n",
        "\n",
        "# แสดงเครือข่าย\n",
        "net\n"
      ],
      "metadata": {
        "colab": {
          "base_uri": "https://localhost:8080/",
          "height": 312
        },
        "id": "fQR5bO-IJakQ",
        "outputId": "cf579503-36fa-47d6-f4e8-8d09fdce70dd"
      },
      "execution_count": 21,
      "outputs": [
        {
          "output_type": "execute_result",
          "data": {
            "image/svg+xml": "<?xml version=\"1.0\" encoding=\"UTF-8\" standalone=\"no\"?>\n<!DOCTYPE svg PUBLIC \"-//W3C//DTD SVG 1.1//EN\"\n \"http://www.w3.org/Graphics/SVG/1.1/DTD/svg11.dtd\">\n<!-- Generated by graphviz version 2.43.0 (0)\n -->\n<!-- Title: Pet_Semantic_Network Pages: 1 -->\n<svg width=\"691pt\" height=\"218pt\"\n viewBox=\"0.00 0.00 691.14 218.00\" xmlns=\"http://www.w3.org/2000/svg\" xmlns:xlink=\"http://www.w3.org/1999/xlink\">\n<g id=\"graph0\" class=\"graph\" transform=\"scale(1 1) rotate(0) translate(4 214)\">\n<title>Pet_Semantic_Network</title>\n<polygon fill=\"white\" stroke=\"transparent\" points=\"-4,4 -4,-214 687.14,-214 687.14,4 -4,4\"/>\n<!-- สัตว์เลี้ยง -->\n<g id=\"node1\" class=\"node\">\n<title>สัตว์เลี้ยง</title>\n<polygon fill=\"none\" stroke=\"blue\" points=\"384.64,-210 211.64,-210 211.64,-174 384.64,-174 384.64,-210\"/>\n<text text-anchor=\"middle\" x=\"298.14\" y=\"-188.3\" font-family=\"Times,serif\" font-size=\"14.00\">สัตว์เลี้ยง</text>\n</g>\n<!-- สุนัข -->\n<g id=\"node2\" class=\"node\">\n<title>สุนัข</title>\n<ellipse fill=\"none\" stroke=\"red\" cx=\"89.14\" cy=\"-105\" rx=\"57.39\" ry=\"18\"/>\n<text text-anchor=\"middle\" x=\"89.14\" y=\"-101.3\" font-family=\"Times,serif\" font-size=\"14.00\">สุนัข</text>\n</g>\n<!-- สัตว์เลี้ยง&#45;&gt;สุนัข -->\n<g id=\"edge1\" class=\"edge\">\n<title>สัตว์เลี้ยง&#45;&gt;สุนัข</title>\n<path fill=\"none\" stroke=\"black\" d=\"M211.43,-183.3C169.19,-177.94 124.12,-169.32 108.14,-156 101.17,-150.19 96.75,-141.52 93.95,-133.03\"/>\n<polygon fill=\"black\" stroke=\"black\" points=\"97.32,-132.08 91.36,-123.33 90.56,-133.89 97.32,-132.08\"/>\n<text text-anchor=\"middle\" x=\"201.14\" y=\"-144.8\" font-family=\"Times,serif\" font-size=\"14.00\">เป็นประเภทของ</text>\n</g>\n<!-- แมว -->\n<g id=\"node3\" class=\"node\">\n<title>แมว</title>\n<ellipse fill=\"none\" stroke=\"red\" cx=\"298.14\" cy=\"-105\" rx=\"38.19\" ry=\"18\"/>\n<text text-anchor=\"middle\" x=\"298.14\" y=\"-101.3\" font-family=\"Times,serif\" font-size=\"14.00\">แมว</text>\n</g>\n<!-- สัตว์เลี้ยง&#45;&gt;แมว -->\n<g id=\"edge2\" class=\"edge\">\n<title>สัตว์เลี้ยง&#45;&gt;แมว</title>\n<path fill=\"none\" stroke=\"black\" d=\"M298.14,-173.8C298.14,-162.16 298.14,-146.55 298.14,-133.24\"/>\n<polygon fill=\"black\" stroke=\"black\" points=\"301.64,-133.18 298.14,-123.18 294.64,-133.18 301.64,-133.18\"/>\n<text text-anchor=\"middle\" x=\"391.14\" y=\"-144.8\" font-family=\"Times,serif\" font-size=\"14.00\">เป็นประเภทของ</text>\n</g>\n<!-- นก -->\n<g id=\"node4\" class=\"node\">\n<title>นก</title>\n<ellipse fill=\"none\" stroke=\"red\" cx=\"507.14\" cy=\"-105\" rx=\"29.5\" ry=\"18\"/>\n<text text-anchor=\"middle\" x=\"507.14\" y=\"-101.3\" font-family=\"Times,serif\" font-size=\"14.00\">นก</text>\n</g>\n<!-- สัตว์เลี้ยง&#45;&gt;นก -->\n<g id=\"edge3\" class=\"edge\">\n<title>สัตว์เลี้ยง&#45;&gt;นก</title>\n<path fill=\"none\" stroke=\"black\" d=\"M384.74,-182.63C425.79,-177.13 469.29,-168.57 485.14,-156 492.4,-150.24 497.33,-141.59 500.64,-133.09\"/>\n<polygon fill=\"black\" stroke=\"black\" points=\"504.04,-133.97 503.83,-123.38 497.39,-131.78 504.04,-133.97\"/>\n<text text-anchor=\"middle\" x=\"590.14\" y=\"-144.8\" font-family=\"Times,serif\" font-size=\"14.00\">เป็นประเภทของ</text>\n</g>\n<!-- ขน -->\n<g id=\"node5\" class=\"node\">\n<title>ขน</title>\n<ellipse fill=\"none\" stroke=\"black\" cx=\"217.14\" cy=\"-18\" rx=\"29.5\" ry=\"18\"/>\n<text text-anchor=\"middle\" x=\"217.14\" y=\"-14.3\" font-family=\"Times,serif\" font-size=\"14.00\">ขน</text>\n</g>\n<!-- สุนัข&#45;&gt;ขน -->\n<g id=\"edge4\" class=\"edge\">\n<title>สุนัข&#45;&gt;ขน</title>\n<path fill=\"none\" stroke=\"black\" d=\"M112.62,-88.41C134.28,-74.02 166.47,-52.65 189.39,-37.43\"/>\n<polygon fill=\"black\" stroke=\"black\" points=\"191.59,-40.17 197.99,-31.72 187.72,-34.34 191.59,-40.17\"/>\n<text text-anchor=\"middle\" x=\"175.64\" y=\"-57.8\" font-family=\"Times,serif\" font-size=\"14.00\">มี</text>\n</g>\n<!-- วิ่งเล่น -->\n<g id=\"node7\" class=\"node\">\n<title>วิ่งเล่น</title>\n<ellipse fill=\"none\" stroke=\"black\" cx=\"85.14\" cy=\"-18\" rx=\"85.29\" ry=\"18\"/>\n<text text-anchor=\"middle\" x=\"85.14\" y=\"-14.3\" font-family=\"Times,serif\" font-size=\"14.00\">วิ่งเล่น</text>\n</g>\n<!-- สุนัข&#45;&gt;วิ่งเล่น -->\n<g id=\"edge7\" class=\"edge\">\n<title>สุนัข&#45;&gt;วิ่งเล่น</title>\n<path fill=\"none\" stroke=\"black\" d=\"M88.33,-86.8C87.79,-75.16 87.05,-59.55 86.42,-46.24\"/>\n<polygon fill=\"black\" stroke=\"black\" points=\"89.92,-46 85.95,-36.18 82.92,-46.33 89.92,-46\"/>\n<text text-anchor=\"middle\" x=\"109.64\" y=\"-57.8\" font-family=\"Times,serif\" font-size=\"14.00\">ชอบ</text>\n</g>\n<!-- แมว&#45;&gt;ขน -->\n<g id=\"edge5\" class=\"edge\">\n<title>แมว&#45;&gt;ขน</title>\n<path fill=\"none\" stroke=\"black\" d=\"M282.91,-88.01C270.26,-74.74 252.15,-55.73 238.13,-41.03\"/>\n<polygon fill=\"black\" stroke=\"black\" points=\"240.66,-38.6 231.23,-33.78 235.59,-43.43 240.66,-38.6\"/>\n<text text-anchor=\"middle\" x=\"277.64\" y=\"-57.8\" font-family=\"Times,serif\" font-size=\"14.00\">มี</text>\n</g>\n<!-- ปีน -->\n<g id=\"node8\" class=\"node\">\n<title>ปีน</title>\n<ellipse fill=\"none\" stroke=\"black\" cx=\"303.14\" cy=\"-18\" rx=\"38.19\" ry=\"18\"/>\n<text text-anchor=\"middle\" x=\"303.14\" y=\"-14.3\" font-family=\"Times,serif\" font-size=\"14.00\">ปีน</text>\n</g>\n<!-- แมว&#45;&gt;ปีน -->\n<g id=\"edge8\" class=\"edge\">\n<title>แมว&#45;&gt;ปีน</title>\n<path fill=\"none\" stroke=\"black\" d=\"M299.15,-86.8C299.84,-75.16 300.76,-59.55 301.54,-46.24\"/>\n<polygon fill=\"black\" stroke=\"black\" points=\"305.04,-46.36 302.13,-36.18 298.05,-45.95 305.04,-46.36\"/>\n<text text-anchor=\"middle\" x=\"322.64\" y=\"-57.8\" font-family=\"Times,serif\" font-size=\"14.00\">ชอบ</text>\n</g>\n<!-- ปีก -->\n<g id=\"node6\" class=\"node\">\n<title>ปีก</title>\n<ellipse fill=\"none\" stroke=\"black\" cx=\"460.14\" cy=\"-18\" rx=\"38.19\" ry=\"18\"/>\n<text text-anchor=\"middle\" x=\"460.14\" y=\"-14.3\" font-family=\"Times,serif\" font-size=\"14.00\">ปีก</text>\n</g>\n<!-- นก&#45;&gt;ปีก -->\n<g id=\"edge6\" class=\"edge\">\n<title>นก&#45;&gt;ปีก</title>\n<path fill=\"none\" stroke=\"black\" d=\"M498.08,-87.61C491.36,-75.46 482.07,-58.66 474.37,-44.73\"/>\n<polygon fill=\"black\" stroke=\"black\" points=\"477.24,-42.69 469.34,-35.63 471.11,-46.07 477.24,-42.69\"/>\n<text text-anchor=\"middle\" x=\"501.64\" y=\"-57.8\" font-family=\"Times,serif\" font-size=\"14.00\">มี</text>\n</g>\n<!-- บิน -->\n<g id=\"node9\" class=\"node\">\n<title>บิน</title>\n<ellipse fill=\"none\" stroke=\"black\" cx=\"555.14\" cy=\"-18\" rx=\"38.19\" ry=\"18\"/>\n<text text-anchor=\"middle\" x=\"555.14\" y=\"-14.3\" font-family=\"Times,serif\" font-size=\"14.00\">บิน</text>\n</g>\n<!-- นก&#45;&gt;บิน -->\n<g id=\"edge9\" class=\"edge\">\n<title>นก&#45;&gt;บิน</title>\n<path fill=\"none\" stroke=\"black\" d=\"M516.4,-87.61C523.26,-75.46 532.75,-58.66 540.62,-44.73\"/>\n<polygon fill=\"black\" stroke=\"black\" points=\"543.88,-46.06 545.75,-35.63 537.79,-42.62 543.88,-46.06\"/>\n<text text-anchor=\"middle\" x=\"576.14\" y=\"-57.8\" font-family=\"Times,serif\" font-size=\"14.00\">สามารถ</text>\n</g>\n</g>\n</svg>\n",
            "text/plain": [
              "<graphviz.graphs.Digraph at 0x7a7e62b69450>"
            ]
          },
          "metadata": {},
          "execution_count": 21
        }
      ]
    },
    {
      "cell_type": "markdown",
      "source": [
        "## เครือข่ายสำหรับแนะนำสัตว์เลี้ยง"
      ],
      "metadata": {
        "id": "fLF1QWEaJqvn"
      }
    },
    {
      "cell_type": "code",
      "source": [
        "# ฟังก์ชันแนะนำสัตว์เลี้ยง\n",
        "def recommend_pet(preference):\n",
        "    if preference == \"ขน\":\n",
        "        return \"แนะนำให้เลี้ยง สุนัข หรือ แมว\"\n",
        "    elif preference == \"ปีก\":\n",
        "        return \"แนะนำให้เลี้ยง นก\"\n",
        "    elif preference == \"ชอบวิ่งเล่น\":\n",
        "        return \"แนะนำให้เลี้ยง สุนัข\"\n",
        "    elif preference == \"ชอบปีน\":\n",
        "        return \"แนะนำให้เลี้ยง แมว\"\n",
        "    elif preference == \"อยากให้บินได้\":\n",
        "        return \"แนะนำให้เลี้ยง นก\"\n",
        "    else:\n",
        "        return \"ไม่มีข้อมูลที่ตรงกับความต้องการของคุณ\"\n",
        "\n",
        "# รับอินพุตจากผู้ใช้\n",
        "user_pref = input(\"คุณต้องการสัตว์เลี้ยงที่มีคุณสมบัติอะไร? (ขน, ปีก, ชอบวิ่งเล่น, ชอบปีน, อยากให้บินได้): \")\n",
        "print(recommend_pet(user_pref))"
      ],
      "metadata": {
        "colab": {
          "base_uri": "https://localhost:8080/"
        },
        "id": "zmmwcOiRJlIp",
        "outputId": "6e02146f-f28a-4445-b307-5d207baf069d"
      },
      "execution_count": 22,
      "outputs": [
        {
          "output_type": "stream",
          "name": "stdout",
          "text": [
            "คุณต้องการสัตว์เลี้ยงที่มีคุณสมบัติอะไร? (ขน, ปีก, ชอบวิ่งเล่น, ชอบปีน, อยากให้บินได้): ขน\n",
            "แนะนำให้เลี้ยง สุนัข หรือ แมว\n"
          ]
        }
      ]
    },
    {
      "cell_type": "markdown",
      "source": [
        "# งานข้อ 2"
      ],
      "metadata": {
        "id": "s965GLzfKak-"
      }
    },
    {
      "cell_type": "code",
      "source": [
        "!pip install experta\n",
        "!pip install frozendict==2.3.4"
      ],
      "metadata": {
        "colab": {
          "base_uri": "https://localhost:8080/"
        },
        "id": "uACBSC9IJvoO",
        "outputId": "ef4381f7-940c-4aa8-fc4e-91c5397a244c"
      },
      "execution_count": 25,
      "outputs": [
        {
          "output_type": "stream",
          "name": "stdout",
          "text": [
            "Requirement already satisfied: experta in /usr/local/lib/python3.11/dist-packages (1.9.4)\n",
            "Requirement already satisfied: frozendict==1.2 in /usr/local/lib/python3.11/dist-packages (from experta) (1.2)\n",
            "Requirement already satisfied: schema==0.6.7 in /usr/local/lib/python3.11/dist-packages (from experta) (0.6.7)\n",
            "Collecting frozendict==2.3.4\n",
            "  Downloading frozendict-2.3.4-py3-none-any.whl.metadata (20 kB)\n",
            "Downloading frozendict-2.3.4-py3-none-any.whl (11 kB)\n",
            "Installing collected packages: frozendict\n",
            "  Attempting uninstall: frozendict\n",
            "    Found existing installation: frozendict 1.2\n",
            "    Uninstalling frozendict-1.2:\n",
            "      Successfully uninstalled frozendict-1.2\n",
            "\u001b[31mERROR: pip's dependency resolver does not currently take into account all the packages that are installed. This behaviour is the source of the following dependency conflicts.\n",
            "experta 1.9.4 requires frozendict==1.2, but you have frozendict 2.3.4 which is incompatible.\u001b[0m\u001b[31m\n",
            "\u001b[0mSuccessfully installed frozendict-2.3.4\n"
          ]
        }
      ]
    },
    {
      "cell_type": "markdown",
      "source": [
        "## สร้างโครงสร้างระบบผู้เชี่ยวชาญ"
      ],
      "metadata": {
        "id": "iZR_d08aK-oq"
      }
    },
    {
      "cell_type": "code",
      "source": [
        "from experta import *\n",
        "\n",
        "# สร้างคลาสสำหรับระบบผู้เชี่ยวชาญ\n",
        "class ComputerExpert(KnowledgeEngine):\n",
        "\n",
        "    @Rule(Fact(problem=\"คอมพิวเตอร์เปิดไม่ติด\"))\n",
        "    def power_issue(self):\n",
        "        print(\"🔍 ตรวจสอบปัญหา: คอมพิวเตอร์เปิดไม่ติด\")\n",
        "        print(\"- ตรวจสอบว่าเสียบปลั๊กหรือยัง\")\n",
        "        print(\"- ตรวจสอบสายไฟและอะแดปเตอร์\")\n",
        "        print(\"- ลองเปลี่ยนปลั๊กไฟ\")\n",
        "\n",
        "    @Rule(Fact(problem=\"อินเทอร์เน็ตใช้งานไม่ได้\"))\n",
        "    def internet_issue(self):\n",
        "        print(\"🔍 ตรวจสอบปัญหา: อินเทอร์เน็ตใช้งานไม่ได้\")\n",
        "        print(\"- รีสตาร์ทเราเตอร์\")\n",
        "        print(\"- ตรวจสอบการเชื่อมต่อ Wi-Fi\")\n",
        "        print(\"- ลองใช้สาย LAN\")\n",
        "\n",
        "    @Rule(Fact(problem=\"คอมพิวเตอร์ทำงานช้า\"))\n",
        "    def slow_computer(self):\n",
        "        print(\"🔍 ตรวจสอบปัญหา: คอมพิวเตอร์ทำงานช้า\")\n",
        "        print(\"- ตรวจสอบจำนวนโปรแกรมที่รันอยู่\")\n",
        "        print(\"- ล้างไฟล์ขยะและรีสตาร์ทเครื่อง\")\n",
        "        print(\"- เพิ่ม RAM ถ้าจำเป็น\")\n",
        "\n",
        "    @Rule(Fact(problem=\"หน้าจอไม่แสดงผล\"))\n",
        "    def no_display(self):\n",
        "        print(\"🔍 ตรวจสอบปัญหา: หน้าจอไม่แสดงผล\")\n",
        "        print(\"- ตรวจสอบว่าสาย HDMI/VGA เชื่อมต่อหรือไม่\")\n",
        "        print(\"- ลองเปลี่ยนสายสัญญาณ\")\n",
        "        print(\"- ตรวจสอบการตั้งค่าหน้าจอ\")"
      ],
      "metadata": {
        "id": "CArzNTKVK00P"
      },
      "execution_count": 26,
      "outputs": []
    },
    {
      "cell_type": "code",
      "source": [
        "# สร้างอินสแตนซ์ของระบบ\n",
        "expert = ComputerExpert()\n",
        "\n",
        "# เปิดใช้งานระบบ\n",
        "expert.reset()\n",
        "\n",
        "# รับปัญหาจากผู้ใช้\n",
        "problem = input(\"กรุณาป้อนปัญหาของคุณ (เช่น คอมพิวเตอร์เปิดไม่ติด, อินเทอร์เน็ตใช้งานไม่ได้, คอมพิวเตอร์ทำงานช้า, หน้าจอไม่แสดงผล): \")\n",
        "\n",
        "# ใส่ข้อเท็จจริงลงในระบบ\n",
        "expert.declare(Fact(problem=problem))\n",
        "\n",
        "# ประมวลผล\n",
        "expert.run()"
      ],
      "metadata": {
        "colab": {
          "base_uri": "https://localhost:8080/"
        },
        "id": "eYJ8OXKxLBdG",
        "outputId": "840f3719-4549-44c7-a16a-ba74425a253d"
      },
      "execution_count": 28,
      "outputs": [
        {
          "output_type": "stream",
          "name": "stdout",
          "text": [
            "กรุณาป้อนปัญหาของคุณ (เช่น คอมพิวเตอร์เปิดไม่ติด, อินเทอร์เน็ตใช้งานไม่ได้, คอมพิวเตอร์ทำงานช้า, หน้าจอไม่แสดงผล): คอมพิวเตอร์เปิดไม่ติด\n",
            "🔍 ตรวจสอบปัญหา: คอมพิวเตอร์เปิดไม่ติด\n",
            "- ตรวจสอบว่าเสียบปลั๊กหรือยัง\n",
            "- ตรวจสอบสายไฟและอะแดปเตอร์\n",
            "- ลองเปลี่ยนปลั๊กไฟ\n"
          ]
        }
      ]
    },
    {
      "cell_type": "code",
      "source": [],
      "metadata": {
        "id": "gxxZ6Pr2LXmS"
      },
      "execution_count": null,
      "outputs": []
    }
  ]
}