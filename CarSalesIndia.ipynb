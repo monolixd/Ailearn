{
  "nbformat": 4,
  "nbformat_minor": 0,
  "metadata": {
    "colab": {
      "provenance": [],
      "authorship_tag": "ABX9TyMLXbNQoRMbZke9eDCyj4aB",
      "include_colab_link": true
    },
    "kernelspec": {
      "name": "python3",
      "display_name": "Python 3"
    },
    "language_info": {
      "name": "python"
    }
  },
  "cells": [
    {
      "cell_type": "markdown",
      "metadata": {
        "id": "view-in-github",
        "colab_type": "text"
      },
      "source": [
        "<a href=\"https://colab.research.google.com/github/monolixd/Ailearn/blob/main/CarSalesIndia.ipynb\" target=\"_parent\"><img src=\"https://colab.research.google.com/assets/colab-badge.svg\" alt=\"Open In Colab\"/></a>"
      ]
    },
    {
      "cell_type": "code",
      "execution_count": 1,
      "metadata": {
        "colab": {
          "base_uri": "https://localhost:8080/"
        },
        "id": "Rhj5IiiD2hXy",
        "outputId": "9a0ad070-877b-46c1-94fa-edfa6a9dc4b7"
      },
      "outputs": [
        {
          "output_type": "stream",
          "name": "stdout",
          "text": [
            "Mounted at /content/drive\n"
          ]
        }
      ],
      "source": [
        "from google.colab import drive\n",
        "drive.mount('/content/drive')"
      ]
    },
    {
      "cell_type": "markdown",
      "source": [
        "# 1.Dataset Preparing"
      ],
      "metadata": {
        "id": "UOnYX6hG4Im2"
      }
    },
    {
      "source": [
        "import pandas as pd\n",
        "\n",
        "# ระบุเส้นทางไปยังไฟล์ใน Google Drive\n",
        "file_path = '/content/drive/MyDrive/LearningforIntern/CarsalesIndia/Car Sales India 2024.xlsx'\n",
        "\n",
        "# โหลดข้อมูล\n",
        "df = pd.read_excel(file_path)\n",
        "\n",
        "# แสดงข้อมูลตัวอย่าง\n",
        "print(df.head())"
      ],
      "cell_type": "code",
      "metadata": {
        "colab": {
          "base_uri": "https://localhost:8080/"
        },
        "id": "INoS9jVs4r9w",
        "outputId": "306344a9-04b1-455f-dd7b-0fe47e984899"
      },
      "execution_count": 5,
      "outputs": [
        {
          "output_type": "stream",
          "name": "stdout",
          "text": [
            "      Make        Model  January February  March  April  May   June  July  \\\n",
            "0  Citroen       Basalt        0        0      0      0    0    0.0     0   \n",
            "1  Citroen           C3      234      211    265    251  155   77.0    90   \n",
            "2  Citroen     Aircross      231      127    211     93  125  136.0    68   \n",
            "3  Citroen  C5 Aircross        1        0      0      1    0    0.0     0   \n",
            "4  Citroen         e-C3      184       83    530     59  235  126.0   177   \n",
            "\n",
            "   August  September  October   November   December  Total Segment  Body Type  \\\n",
            "0     579        341       221         47        79   1267      C2        SUV   \n",
            "1     507        300       300        200       300   2890      C1  Hatchback   \n",
            "2      38         41       103        201        96   1470      C2        SUV   \n",
            "3       1          1         4          0         1      9      D2        SUV   \n",
            "4     150         28        89         61        90   1812      C1        SUV   \n",
            "\n",
            "   MoM %  YoY %  \n",
            "0     68      0  \n",
            "1     50     -3  \n",
            "2    -52    -72  \n",
            "3      0    -50  \n",
            "4     48      0  \n"
          ]
        }
      ]
    },
    {
      "cell_type": "markdown",
      "source": [
        "## ตรวจสอบข้อมูลเบื้องต้น"
      ],
      "metadata": {
        "id": "mDzpvo7w7n8r"
      }
    },
    {
      "cell_type": "code",
      "source": [
        "df.info()  # ตรวจสอบประเภทข้อมูล\n",
        "df.describe()  # ดูสถิติพื้นฐาน\n",
        "df.isnull().sum()  # ตรวจสอบค่าที่หายไป (missing values)"
      ],
      "metadata": {
        "colab": {
          "base_uri": "https://localhost:8080/",
          "height": 1000
        },
        "collapsed": true,
        "id": "OxuI39Tq4SKN",
        "outputId": "f9ddc640-389b-4eac-b9b6-f4ef4a58b26b"
      },
      "execution_count": 6,
      "outputs": [
        {
          "output_type": "stream",
          "name": "stdout",
          "text": [
            "<class 'pandas.core.frame.DataFrame'>\n",
            "RangeIndex: 87 entries, 0 to 86\n",
            "Data columns (total 19 columns):\n",
            " #   Column     Non-Null Count  Dtype  \n",
            "---  ------     --------------  -----  \n",
            " 0   Make       87 non-null     object \n",
            " 1   Model      87 non-null     object \n",
            " 2   January    87 non-null     int64  \n",
            " 3   February   87 non-null     object \n",
            " 4   March      87 non-null     int64  \n",
            " 5   April      87 non-null     int64  \n",
            " 6   May        87 non-null     int64  \n",
            " 7   June       86 non-null     float64\n",
            " 8   July       87 non-null     int64  \n",
            " 9   August     87 non-null     int64  \n",
            " 10  September  87 non-null     int64  \n",
            " 11  October    87 non-null     int64  \n",
            " 12  November   87 non-null     int64  \n",
            " 13  December   87 non-null     int64  \n",
            " 14  Total      87 non-null     int64  \n",
            " 15  Segment    87 non-null     object \n",
            " 16  Body Type  87 non-null     object \n",
            " 17  MoM %      87 non-null     int64  \n",
            " 18  YoY %      87 non-null     int64  \n",
            "dtypes: float64(1), int64(13), object(5)\n",
            "memory usage: 13.0+ KB\n"
          ]
        },
        {
          "output_type": "execute_result",
          "data": {
            "text/plain": [
              "Make         0\n",
              "Model        0\n",
              "January      0\n",
              "February     0\n",
              "March        0\n",
              "April        0\n",
              "May          0\n",
              "June         1\n",
              "July         0\n",
              "August       0\n",
              "September    0\n",
              "October      0\n",
              "November     0\n",
              "December     0\n",
              "Total        0\n",
              "Segment      0\n",
              "Body Type    0\n",
              "MoM %        0\n",
              "YoY %        0\n",
              "dtype: int64"
            ],
            "text/html": [
              "<div>\n",
              "<style scoped>\n",
              "    .dataframe tbody tr th:only-of-type {\n",
              "        vertical-align: middle;\n",
              "    }\n",
              "\n",
              "    .dataframe tbody tr th {\n",
              "        vertical-align: top;\n",
              "    }\n",
              "\n",
              "    .dataframe thead th {\n",
              "        text-align: right;\n",
              "    }\n",
              "</style>\n",
              "<table border=\"1\" class=\"dataframe\">\n",
              "  <thead>\n",
              "    <tr style=\"text-align: right;\">\n",
              "      <th></th>\n",
              "      <th>0</th>\n",
              "    </tr>\n",
              "  </thead>\n",
              "  <tbody>\n",
              "    <tr>\n",
              "      <th>Make</th>\n",
              "      <td>0</td>\n",
              "    </tr>\n",
              "    <tr>\n",
              "      <th>Model</th>\n",
              "      <td>0</td>\n",
              "    </tr>\n",
              "    <tr>\n",
              "      <th>January</th>\n",
              "      <td>0</td>\n",
              "    </tr>\n",
              "    <tr>\n",
              "      <th>February</th>\n",
              "      <td>0</td>\n",
              "    </tr>\n",
              "    <tr>\n",
              "      <th>March</th>\n",
              "      <td>0</td>\n",
              "    </tr>\n",
              "    <tr>\n",
              "      <th>April</th>\n",
              "      <td>0</td>\n",
              "    </tr>\n",
              "    <tr>\n",
              "      <th>May</th>\n",
              "      <td>0</td>\n",
              "    </tr>\n",
              "    <tr>\n",
              "      <th>June</th>\n",
              "      <td>1</td>\n",
              "    </tr>\n",
              "    <tr>\n",
              "      <th>July</th>\n",
              "      <td>0</td>\n",
              "    </tr>\n",
              "    <tr>\n",
              "      <th>August</th>\n",
              "      <td>0</td>\n",
              "    </tr>\n",
              "    <tr>\n",
              "      <th>September</th>\n",
              "      <td>0</td>\n",
              "    </tr>\n",
              "    <tr>\n",
              "      <th>October</th>\n",
              "      <td>0</td>\n",
              "    </tr>\n",
              "    <tr>\n",
              "      <th>November</th>\n",
              "      <td>0</td>\n",
              "    </tr>\n",
              "    <tr>\n",
              "      <th>December</th>\n",
              "      <td>0</td>\n",
              "    </tr>\n",
              "    <tr>\n",
              "      <th>Total</th>\n",
              "      <td>0</td>\n",
              "    </tr>\n",
              "    <tr>\n",
              "      <th>Segment</th>\n",
              "      <td>0</td>\n",
              "    </tr>\n",
              "    <tr>\n",
              "      <th>Body Type</th>\n",
              "      <td>0</td>\n",
              "    </tr>\n",
              "    <tr>\n",
              "      <th>MoM %</th>\n",
              "      <td>0</td>\n",
              "    </tr>\n",
              "    <tr>\n",
              "      <th>YoY %</th>\n",
              "      <td>0</td>\n",
              "    </tr>\n",
              "  </tbody>\n",
              "</table>\n",
              "</div><br><label><b>dtype:</b> int64</label>"
            ]
          },
          "metadata": {},
          "execution_count": 6
        }
      ]
    },
    {
      "cell_type": "code",
      "source": [
        "# ปิดคำเตือนที่ไม่จำเป็น\n",
        "import warnings\n",
        "warnings.filterwarnings('ignore')\n",
        "\n",
        "# นำเข้าไลบรารีที่จำเป็น\n",
        "import pandas as pd\n",
        "import numpy as np\n",
        "import matplotlib.pyplot as plt\n",
        "import seaborn as sns\n",
        "\n",
        "# ระบุ path ของไฟล์ใน Google Drive (แก้ไขให้ตรงกับตำแหน่งที่คุณอัปโหลดไฟล์ไว้)\n",
        "file_path_1 = \"/content/drive/MyDrive/LearningforIntern/CarsalesIndia/Car Sales India 2024.xlsx\"\n",
        "file_path_2 = \"/content/drive/MyDrive/LearningforIntern/CarsalesIndia/Car Sales in India - 2024.xlsx\"\n",
        "file_path_3 = \"/content/drive/MyDrive/LearningforIntern/CarsalesIndia/Car Sales in India - 2024 (Unpivot Version).xlsx\"\n",
        "\n",
        "# โหลดข้อมูลจากไฟล์ Excel\n",
        "df1 = pd.read_excel(file_path_1)\n",
        "df2 = pd.read_excel(file_path_2)\n",
        "df3 = pd.read_excel(file_path_3)\n",
        "\n",
        "# แสดงข้อมูล 5 แถวแรกของแต่ละ DataFrame\n",
        "df1.head(), df2.head(), df3.head()\n"
      ],
      "metadata": {
        "colab": {
          "base_uri": "https://localhost:8080/"
        },
        "id": "BhA942vC7sj9",
        "outputId": "fe8ca61a-f272-43b2-fb95-64b081712a44"
      },
      "execution_count": 8,
      "outputs": [
        {
          "output_type": "execute_result",
          "data": {
            "text/plain": [
              "(      Make        Model  January February  March  April  May   June  July  \\\n",
              " 0  Citroen       Basalt        0        0      0      0    0    0.0     0   \n",
              " 1  Citroen           C3      234      211    265    251  155   77.0    90   \n",
              " 2  Citroen     Aircross      231      127    211     93  125  136.0    68   \n",
              " 3  Citroen  C5 Aircross        1        0      0      1    0    0.0     0   \n",
              " 4  Citroen         e-C3      184       83    530     59  235  126.0   177   \n",
              " \n",
              "    August  September  October   November   December  Total Segment  Body Type  \\\n",
              " 0     579        341       221         47        79   1267      C2        SUV   \n",
              " 1     507        300       300        200       300   2890      C1  Hatchback   \n",
              " 2      38         41       103        201        96   1470      C2        SUV   \n",
              " 3       1          1         4          0         1      9      D2        SUV   \n",
              " 4     150         28        89         61        90   1812      C1        SUV   \n",
              " \n",
              "    MoM %  YoY %  \n",
              " 0     68      0  \n",
              " 1     50     -3  \n",
              " 2    -52    -72  \n",
              " 3      0    -50  \n",
              " 4     48      0  ,\n",
              "       Make        Model  January February  March  April  May   June  July  \\\n",
              " 0  Citroen       Basalt        0        0      0      0    0    0.0     0   \n",
              " 1  Citroen           C3      234      211    265    251  155   77.0    90   \n",
              " 2  Citroen     Aircross      231      127    211     93  125  136.0    68   \n",
              " 3  Citroen  C5 Aircross        1        0      0      1    0    0.0     0   \n",
              " 4  Citroen         e-C3      184       83    530     59  235  126.0   177   \n",
              " \n",
              "    August  September  October   November   December  Total Segment  Body Type  \\\n",
              " 0     579        341       221         47        79   1267      C2        SUV   \n",
              " 1     507        300       300        200       300   2890      C1  Hatchback   \n",
              " 2      38         41       103        201        96   1470      C2        SUV   \n",
              " 3       1          1         4          0         1      9      D2        SUV   \n",
              " 4     150         28        89         61        90   1812      C1        SUV   \n",
              " \n",
              "    MoM %  YoY %  \n",
              " 0     68      0  \n",
              " 1     50     -3  \n",
              " 2    -52    -72  \n",
              " 3      0    -50  \n",
              " 4     48      0  ,\n",
              "       Make   Model    Months  Sales  Total Segment Body Type  MoM %  YoY %\n",
              " 0  Citroen  Basalt   January      0   1267      C2       SUV     68      0\n",
              " 1  Citroen  Basalt  February      0   1267      C2       SUV     68      0\n",
              " 2  Citroen  Basalt     March      0   1267      C2       SUV     68      0\n",
              " 3  Citroen  Basalt     April      0   1267      C2       SUV     68      0\n",
              " 4  Citroen  Basalt       May      0   1267      C2       SUV     68      0)"
            ]
          },
          "metadata": {},
          "execution_count": 8
        }
      ]
    },
    {
      "cell_type": "markdown",
      "source": [
        "## 1.ทำความสะอาด (Cleaning) และเตรียมข้อมูล (Preprocessing) ก่อนนำไปวิเคราะห์ต่อ"
      ],
      "metadata": {
        "id": "_ODno6iZCaJS"
      }
    },
    {
      "cell_type": "code",
      "source": [
        "df1.isnull().sum(), df2.isnull().sum(), df3.isnull().sum()"
      ],
      "metadata": {
        "colab": {
          "base_uri": "https://localhost:8080/"
        },
        "id": "b27wQvCl95iP",
        "outputId": "39cc3e26-ceff-481d-8a68-6430b568f499"
      },
      "execution_count": 9,
      "outputs": [
        {
          "output_type": "execute_result",
          "data": {
            "text/plain": [
              "(Make         0\n",
              " Model        0\n",
              " January      0\n",
              " February     0\n",
              " March        0\n",
              " April        0\n",
              " May          0\n",
              " June         1\n",
              " July         0\n",
              " August       0\n",
              " September    0\n",
              " October      0\n",
              " November     0\n",
              " December     0\n",
              " Total        0\n",
              " Segment      0\n",
              " Body Type    0\n",
              " MoM %        0\n",
              " YoY %        0\n",
              " dtype: int64,\n",
              " Make         0\n",
              " Model        0\n",
              " January      0\n",
              " February     0\n",
              " March        0\n",
              " April        0\n",
              " May          0\n",
              " June         1\n",
              " July         0\n",
              " August       0\n",
              " September    0\n",
              " October      0\n",
              " November     0\n",
              " December     0\n",
              " Total        0\n",
              " Segment      0\n",
              " Body Type    0\n",
              " MoM %        0\n",
              " YoY %        0\n",
              " dtype: int64,\n",
              " Make         0\n",
              " Model        0\n",
              " Months       0\n",
              " Sales        0\n",
              " Total        0\n",
              " Segment      0\n",
              " Body Type    0\n",
              " MoM %        0\n",
              " YoY %        0\n",
              " dtype: int64)"
            ]
          },
          "metadata": {},
          "execution_count": 9
        }
      ]
    },
    {
      "cell_type": "markdown",
      "source": [
        "## 2.แปลงข้อมูลให้เป็นประเภทที่ถูกต้อง"
      ],
      "metadata": {
        "id": "PS0CMEOECju4"
      }
    },
    {
      "cell_type": "code",
      "source": [
        "df1['February'] = pd.to_numeric(df1['February'], errors='coerce')\n",
        "df2['February'] = pd.to_numeric(df2['February'], errors='coerce')"
      ],
      "metadata": {
        "id": "iUpEW7P3Cc-Q"
      },
      "execution_count": 10,
      "outputs": []
    },
    {
      "cell_type": "markdown",
      "source": [
        "##  3.เติมค่าที่หายไป (NaN) ด้วย 0"
      ],
      "metadata": {
        "id": "nRJ6KaElC4sK"
      }
    },
    {
      "cell_type": "code",
      "source": [
        "df1.fillna(0, inplace=True)\n",
        "df2.fillna(0, inplace=True)\n",
        "df3.fillna(0, inplace=True)"
      ],
      "metadata": {
        "id": "7TefB04qCyt-"
      },
      "execution_count": 11,
      "outputs": []
    },
    {
      "cell_type": "markdown",
      "source": [
        "## 4.ตรวจสอบประเภทของข้อมูล"
      ],
      "metadata": {
        "id": "NRgUdxlsDDei"
      }
    },
    {
      "cell_type": "code",
      "source": [
        "df1.dtypes, df2.dtypes, df3.dtypes"
      ],
      "metadata": {
        "colab": {
          "base_uri": "https://localhost:8080/"
        },
        "id": "JTsWE7BXC-Dh",
        "outputId": "7bca689a-bc66-41b8-dab9-55ad602668fb"
      },
      "execution_count": 13,
      "outputs": [
        {
          "output_type": "execute_result",
          "data": {
            "text/plain": [
              "(Make          object\n",
              " Model         object\n",
              " January        int64\n",
              " February     float64\n",
              " March          int64\n",
              " April          int64\n",
              " May            int64\n",
              " June         float64\n",
              " July           int64\n",
              " August         int64\n",
              " September      int64\n",
              " October        int64\n",
              " November       int64\n",
              " December       int64\n",
              " Total          int64\n",
              " Segment       object\n",
              " Body Type     object\n",
              " MoM %          int64\n",
              " YoY %          int64\n",
              " dtype: object,\n",
              " Make          object\n",
              " Model         object\n",
              " January        int64\n",
              " February     float64\n",
              " March          int64\n",
              " April          int64\n",
              " May            int64\n",
              " June         float64\n",
              " July           int64\n",
              " August         int64\n",
              " September      int64\n",
              " October        int64\n",
              " November       int64\n",
              " December       int64\n",
              " Total          int64\n",
              " Segment       object\n",
              " Body Type     object\n",
              " MoM %          int64\n",
              " YoY %          int64\n",
              " dtype: object,\n",
              " Make         object\n",
              " Model        object\n",
              " Months       object\n",
              " Sales         int64\n",
              " Total         int64\n",
              " Segment      object\n",
              " Body Type    object\n",
              " MoM %         int64\n",
              " YoY %         int64\n",
              " dtype: object)"
            ]
          },
          "metadata": {},
          "execution_count": 13
        }
      ]
    },
    {
      "cell_type": "markdown",
      "source": [
        "# Analyzing"
      ],
      "metadata": {
        "id": "dqNfYlcSDm6S"
      }
    },
    {
      "cell_type": "markdown",
      "source": [
        "## 1. กราฟแท่งแสดงยอดขายรวมของแต่ละเดือน"
      ],
      "metadata": {
        "id": "jkd9CtYKDt6t"
      }
    },
    {
      "cell_type": "code",
      "source": [
        "monthly_sales = df1[['January', 'February', 'March', 'April', 'May', 'June',\n",
        "                     'July', 'August', 'September', 'October ', 'November ', 'December']].sum()\n",
        "sns.barplot(x=monthly_sales.index, y=monthly_sales.values)\n",
        "plt.title('Total Sales by Month')\n",
        "plt.xticks(rotation=45)\n",
        "plt.show()"
      ],
      "metadata": {
        "colab": {
          "base_uri": "https://localhost:8080/",
          "height": 522
        },
        "id": "G4W0KIKtDGUZ",
        "outputId": "f3c64064-59ce-4331-f0ab-9acb78605a5a"
      },
      "execution_count": 14,
      "outputs": [
        {
          "output_type": "display_data",
          "data": {
            "text/plain": [
              "<Figure size 640x480 with 1 Axes>"
            ],
            "image/png": "[encoded data removed]"
          },
          "metadata": {}
        }
      ]
    },
    {
      "cell_type": "markdown",
      "source": [
        "## 2.กราฟแท่งแสดงการกระจายยอดขายตามเซกเมนต์ของรถยนต์"
      ],
      "metadata": {
        "id": "W_FtJPrzEHkb"
      }
    },
    {
      "cell_type": "code",
      "source": [
        "sns.countplot(data=df1, x='Segment')\n",
        "plt.title('Sales Distribution by Segment')\n",
        "plt.xticks(rotation=45)\n",
        "plt.show()"
      ],
      "metadata": {
        "colab": {
          "base_uri": "https://localhost:8080/",
          "height": 511
        },
        "id": "xUK4iIJiD0nV",
        "outputId": "a86fc95e-1b59-401d-de4e-00e81acaf2a6"
      },
      "execution_count": 15,
      "outputs": [
        {
          "output_type": "display_data",
          "data": {
            "text/plain": [
              "<Figure size 640x480 with 1 Axes>"
            ],
            "image/png": "[encoded data removed]"
          },
          "metadata": {}
        }
      ]
    },
    {
      "cell_type": "markdown",
      "source": [
        "## 3. กราฟแท่งแสดงการกระจายยอดขายตามประเภทตัวถังของรถยนต์"
      ],
      "metadata": {
        "id": "b_Nm76dZEZGf"
      }
    },
    {
      "cell_type": "code",
      "source": [
        "sns.countplot(data=df1, x='Body Type')\n",
        "plt.title('Sales Distribution by Body Type')\n",
        "plt.xticks(rotation=45)\n",
        "plt.show()"
      ],
      "metadata": {
        "colab": {
          "base_uri": "https://localhost:8080/",
          "height": 520
        },
        "id": "Se9fReOiEQol",
        "outputId": "08df8004-1d20-4375-c84a-a83b788a41fd"
      },
      "execution_count": 16,
      "outputs": [
        {
          "output_type": "display_data",
          "data": {
            "text/plain": [
              "<Figure size 640x480 with 1 Axes>"
            ],
            "image/png": "[encoded data removed]"
          },
          "metadata": {}
        }
      ]
    },
    {
      "cell_type": "markdown",
      "source": [
        "# ยอดขายรายไตรมาส (Quarterly Sales)"
      ],
      "metadata": {
        "id": "TEfHv5_WFg-M"
      }
    },
    {
      "cell_type": "code",
      "source": [
        "df1['QS1'] = df1['January'] + df1['February'] + df1['March']\n",
        "df1['QS2'] = df1['April'] + df1['May'] + df1['June']\n",
        "df1['QS3'] = df1['July'] + df1['August'] + df1['September']\n",
        "df1['QS4'] = df1['October '] + df1['November '] + df1['December']"
      ],
      "metadata": {
        "id": "EpueVB4xEyGN"
      },
      "execution_count": 21,
      "outputs": []
    },
    {
      "cell_type": "code",
      "source": [
        "quarterly_sales = df1[['QS1', 'QS2', 'QS3', 'QS4']].sum()\n",
        "sns.barplot(x=quarterly_sales.index, y=quarterly_sales.values, palette=\"coolwarm\")\n",
        "plt.title('Total Sales by Quarter')\n",
        "plt.show()"
      ],
      "metadata": {
        "colab": {
          "base_uri": "https://localhost:8080/",
          "height": 472
        },
        "id": "vjbqlQyYFpjm",
        "outputId": "463ffbb6-1fec-4ed2-8b4a-de3b347c613f"
      },
      "execution_count": 23,
      "outputs": [
        {
          "output_type": "display_data",
          "data": {
            "text/plain": [
              "<Figure size 640x480 with 1 Axes>"
            ],
            "image/png": "[encoded data removed]"
          },
          "metadata": {}
        }
      ]
    },
    {
      "cell_type": "markdown",
      "source": [
        "## เปรียบเทียบยอดขายรายไตรมาสของแต่ละแบรนด์"
      ],
      "metadata": {
        "id": "dETKDzkSF4kN"
      }
    },
    {
      "cell_type": "code",
      "source": [
        "df_quarterly = df1.groupby(\"Make\")[['Q1', 'Q2', 'Q3', 'Q4']].sum()\n",
        "df_quarterly.plot(kind='bar', figsize=(10,5), colormap='viridis')\n",
        "plt.title('Quarterly Sales by Car Brand')\n",
        "plt.ylabel('Total Sales')\n",
        "plt.xticks(rotation=45)\n",
        "plt.show()"
      ],
      "metadata": {
        "colab": {
          "base_uri": "https://localhost:8080/",
          "height": 541
        },
        "id": "S-8wq3mxFvON",
        "outputId": "7c44efe5-67ca-4c63-faf7-d51b5ecb323d"
      },
      "execution_count": 20,
      "outputs": [
        {
          "output_type": "display_data",
          "data": {
            "text/plain": [
              "<Figure size 1000x500 with 1 Axes>"
            ],
            "image/png": "[encoded data removed]"
          },
          "metadata": {}
        }
      ]
    },
    {
      "cell_type": "markdown",
      "source": [
        "# Create Model"
      ],
      "metadata": {
        "id": "vjUMWB8nHM7U"
      }
    },
    {
      "cell_type": "code",
      "source": [
        "from sklearn.model_selection import train_test_split\n",
        "from sklearn.linear_model import LinearRegression\n",
        "from sklearn.metrics import mean_squared_error, r2_score"
      ],
      "metadata": {
        "id": "TIWCpL35HxgN"
      },
      "execution_count": 31,
      "outputs": []
    },
    {
      "cell_type": "markdown",
      "source": [
        "## 1. เตรียมข้อมูลสำหรับการสร้างโมเดล"
      ],
      "metadata": {
        "id": "eVtsZ6yyHR_y"
      }
    },
    {
      "cell_type": "code",
      "source": [
        "X = df1[['QS1', 'QS2', 'QS3', 'QS4']]\n",
        "y = df1['Total']"
      ],
      "metadata": {
        "id": "Om7_tcu3FzxI"
      },
      "execution_count": 32,
      "outputs": []
    },
    {
      "cell_type": "markdown",
      "source": [
        "## 2. แบ่งข้อมูลออกเป็นชุดฝึก (Training Set) และชุดทดสอบ (Testing Set)"
      ],
      "metadata": {
        "id": "W6vnJf3CHZB4"
      }
    },
    {
      "cell_type": "code",
      "source": [
        "X_train, X_test, y_train, y_test = train_test_split(X, y, test_size=0.2, random_state=42)"
      ],
      "metadata": {
        "id": "_cvH2v0lHT0k"
      },
      "execution_count": 33,
      "outputs": []
    },
    {
      "cell_type": "markdown",
      "source": [
        "## 3. สร้างและฝึกฝนโมเดล Linear Regression"
      ],
      "metadata": {
        "id": "fy7MaZH6HmtZ"
      }
    },
    {
      "cell_type": "code",
      "source": [
        "model = LinearRegression()\n",
        "model.fit(X_train, y_train)"
      ],
      "metadata": {
        "colab": {
          "base_uri": "https://localhost:8080/",
          "height": 80
        },
        "id": "DVUziJWXHcJS",
        "outputId": "ff0e6092-c828-484c-b29d-6bb59af5416d"
      },
      "execution_count": 34,
      "outputs": [
        {
          "output_type": "execute_result",
          "data": {
            "text/plain": [
              "LinearRegression()"
            ],
            "text/html": [
              "<style>#sk-container-id-1 {\n",
              "  /* Definition of color scheme common for light and dark mode */\n",
              "  --sklearn-color-text: #000;\n",
              "  --sklearn-color-text-muted: #666;\n",
              "  --sklearn-color-line: gray;\n",
              "  /* Definition of color scheme for unfitted estimators */\n",
              "  --sklearn-color-unfitted-level-0: #fff5e6;\n",
              "  --sklearn-color-unfitted-level-1: #f6e4d2;\n",
              "  --sklearn-color-unfitted-level-2: #ffe0b3;\n",
              "  --sklearn-color-unfitted-level-3: chocolate;\n",
              "  /* Definition of color scheme for fitted estimators */\n",
              "  --sklearn-color-fitted-level-0: #f0f8ff;\n",
              "  --sklearn-color-fitted-level-1: #d4ebff;\n",
              "  --sklearn-color-fitted-level-2: #b3dbfd;\n",
              "  --sklearn-color-fitted-level-3: cornflowerblue;\n",
              "\n",
              "  /* Specific color for light theme */\n",
              "  --sklearn-color-text-on-default-background: var(--sg-text-color, var(--theme-code-foreground, var(--jp-content-font-color1, black)));\n",
              "  --sklearn-color-background: var(--sg-background-color, var(--theme-background, var(--jp-layout-color0, white)));\n",
              "  --sklearn-color-border-box: var(--sg-text-color, var(--theme-code-foreground, var(--jp-content-font-color1, black)));\n",
              "  --sklearn-color-icon: #696969;\n",
              "\n",
              "  @media (prefers-color-scheme: dark) {\n",
              "    /* Redefinition of color scheme for dark theme */\n",
              "    --sklearn-color-text-on-default-background: var(--sg-text-color, var(--theme-code-foreground, var(--jp-content-font-color1, white)));\n",
              "    --sklearn-color-background: var(--sg-background-color, var(--theme-background, var(--jp-layout-color0, #111)));\n",
              "    --sklearn-color-border-box: var(--sg-text-color, var(--theme-code-foreground, var(--jp-content-font-color1, white)));\n",
              "    --sklearn-color-icon: #878787;\n",
              "  }\n",
              "}\n",
              "\n",
              "#sk-container-id-1 {\n",
              "  color: var(--sklearn-color-text);\n",
              "}\n",
              "\n",
              "#sk-container-id-1 pre {\n",
              "  padding: 0;\n",
              "}\n",
              "\n",
              "#sk-container-id-1 input.sk-hidden--visually {\n",
              "  border: 0;\n",
              "  clip: rect(1px 1px 1px 1px);\n",
              "  clip: rect(1px, 1px, 1px, 1px);\n",
              "  height: 1px;\n",
              "  margin: -1px;\n",
              "  overflow: hidden;\n",
              "  padding: 0;\n",
              "  position: absolute;\n",
              "  width: 1px;\n",
              "}\n",
              "\n",
              "#sk-container-id-1 div.sk-dashed-wrapped {\n",
              "  border: 1px dashed var(--sklearn-color-line);\n",
              "  margin: 0 0.4em 0.5em 0.4em;\n",
              "  box-sizing: border-box;\n",
              "  padding-bottom: 0.4em;\n",
              "  background-color: var(--sklearn-color-background);\n",
              "}\n",
              "\n",
              "#sk-container-id-1 div.sk-container {\n",
              "  /* jupyter's `normalize.less` sets `[hidden] { display: none; }`\n",
              "     but bootstrap.min.css set `[hidden] { display: none !important; }`\n",
              "     so we also need the `!important` here to be able to override the\n",
              "     default hidden behavior on the sphinx rendered scikit-learn.org.\n",
              "     See: https://github.com/scikit-learn/scikit-learn/issues/21755 */\n",
              "  display: inline-block !important;\n",
              "  position: relative;\n",
              "}\n",
              "\n",
              "#sk-container-id-1 div.sk-text-repr-fallback {\n",
              "  display: none;\n",
              "}\n",
              "\n",
              "div.sk-parallel-item,\n",
              "div.sk-serial,\n",
              "div.sk-item {\n",
              "  /* draw centered vertical line to link estimators */\n",
              "  background-image: linear-gradient(var(--sklearn-color-text-on-default-background), var(--sklearn-color-text-on-default-background));\n",
              "  background-size: 2px 100%;\n",
              "  background-repeat: no-repeat;\n",
              "  background-position: center center;\n",
              "}\n",
              "\n",
              "/* Parallel-specific style estimator block */\n",
              "\n",
              "#sk-container-id-1 div.sk-parallel-item::after {\n",
              "  content: \"\";\n",
              "  width: 100%;\n",
              "  border-bottom: 2px solid var(--sklearn-color-text-on-default-background);\n",
              "  flex-grow: 1;\n",
              "}\n",
              "\n",
              "#sk-container-id-1 div.sk-parallel {\n",
              "  display: flex;\n",
              "  align-items: stretch;\n",
              "  justify-content: center;\n",
              "  background-color: var(--sklearn-color-background);\n",
              "  position: relative;\n",
              "}\n",
              "\n",
              "#sk-container-id-1 div.sk-parallel-item {\n",
              "  display: flex;\n",
              "  flex-direction: column;\n",
              "}\n",
              "\n",
              "#sk-container-id-1 div.sk-parallel-item:first-child::after {\n",
              "  align-self: flex-end;\n",
              "  width: 50%;\n",
              "}\n",
              "\n",
              "#sk-container-id-1 div.sk-parallel-item:last-child::after {\n",
              "  align-self: flex-start;\n",
              "  width: 50%;\n",
              "}\n",
              "\n",
              "#sk-container-id-1 div.sk-parallel-item:only-child::after {\n",
              "  width: 0;\n",
              "}\n",
              "\n",
              "/* Serial-specific style estimator block */\n",
              "\n",
              "#sk-container-id-1 div.sk-serial {\n",
              "  display: flex;\n",
              "  flex-direction: column;\n",
              "  align-items: center;\n",
              "  background-color: var(--sklearn-color-background);\n",
              "  padding-right: 1em;\n",
              "  padding-left: 1em;\n",
              "}\n",
              "\n",
              "\n",
              "/* Toggleable style: style used for estimator/Pipeline/ColumnTransformer box that is\n",
              "clickable and can be expanded/collapsed.\n",
              "- Pipeline and ColumnTransformer use this feature and define the default style\n",
              "- Estimators will overwrite some part of the style using the `sk-estimator` class\n",
              "*/\n",
              "\n",
              "/* Pipeline and ColumnTransformer style (default) */\n",
              "\n",
              "#sk-container-id-1 div.sk-toggleable {\n",
              "  /* Default theme specific background. It is overwritten whether we have a\n",
              "  specific estimator or a Pipeline/ColumnTransformer */\n",
              "  background-color: var(--sklearn-color-background);\n",
              "}\n",
              "\n",
              "/* Toggleable label */\n",
              "#sk-container-id-1 label.sk-toggleable__label {\n",
              "  cursor: pointer;\n",
              "  display: flex;\n",
              "  width: 100%;\n",
              "  margin-bottom: 0;\n",
              "  padding: 0.5em;\n",
              "  box-sizing: border-box;\n",
              "  text-align: center;\n",
              "  align-items: start;\n",
              "  justify-content: space-between;\n",
              "  gap: 0.5em;\n",
              "}\n",
              "\n",
              "#sk-container-id-1 label.sk-toggleable__label .caption {\n",
              "  font-size: 0.6rem;\n",
              "  font-weight: lighter;\n",
              "  color: var(--sklearn-color-text-muted);\n",
              "}\n",
              "\n",
              "#sk-container-id-1 label.sk-toggleable__label-arrow:before {\n",
              "  /* Arrow on the left of the label */\n",
              "  content: \"▸\";\n",
              "  float: left;\n",
              "  margin-right: 0.25em;\n",
              "  color: var(--sklearn-color-icon);\n",
              "}\n",
              "\n",
              "#sk-container-id-1 label.sk-toggleable__label-arrow:hover:before {\n",
              "  color: var(--sklearn-color-text);\n",
              "}\n",
              "\n",
              "/* Toggleable content - dropdown */\n",
              "\n",
              "#sk-container-id-1 div.sk-toggleable__content {\n",
              "  max-height: 0;\n",
              "  max-width: 0;\n",
              "  overflow: hidden;\n",
              "  text-align: left;\n",
              "  /* unfitted */\n",
              "  background-color: var(--sklearn-color-unfitted-level-0);\n",
              "}\n",
              "\n",
              "#sk-container-id-1 div.sk-toggleable__content.fitted {\n",
              "  /* fitted */\n",
              "  background-color: var(--sklearn-color-fitted-level-0);\n",
              "}\n",
              "\n",
              "#sk-container-id-1 div.sk-toggleable__content pre {\n",
              "  margin: 0.2em;\n",
              "  border-radius: 0.25em;\n",
              "  color: var(--sklearn-color-text);\n",
              "  /* unfitted */\n",
              "  background-color: var(--sklearn-color-unfitted-level-0);\n",
              "}\n",
              "\n",
              "#sk-container-id-1 div.sk-toggleable__content.fitted pre {\n",
              "  /* unfitted */\n",
              "  background-color: var(--sklearn-color-fitted-level-0);\n",
              "}\n",
              "\n",
              "#sk-container-id-1 input.sk-toggleable__control:checked~div.sk-toggleable__content {\n",
              "  /* Expand drop-down */\n",
              "  max-height: 200px;\n",
              "  max-width: 100%;\n",
              "  overflow: auto;\n",
              "}\n",
              "\n",
              "#sk-container-id-1 input.sk-toggleable__control:checked~label.sk-toggleable__label-arrow:before {\n",
              "  content: \"▾\";\n",
              "}\n",
              "\n",
              "/* Pipeline/ColumnTransformer-specific style */\n",
              "\n",
              "#sk-container-id-1 div.sk-label input.sk-toggleable__control:checked~label.sk-toggleable__label {\n",
              "  color: var(--sklearn-color-text);\n",
              "  background-color: var(--sklearn-color-unfitted-level-2);\n",
              "}\n",
              "\n",
              "#sk-container-id-1 div.sk-label.fitted input.sk-toggleable__control:checked~label.sk-toggleable__label {\n",
              "  background-color: var(--sklearn-color-fitted-level-2);\n",
              "}\n",
              "\n",
              "/* Estimator-specific style */\n",
              "\n",
              "/* Colorize estimator box */\n",
              "#sk-container-id-1 div.sk-estimator input.sk-toggleable__control:checked~label.sk-toggleable__label {\n",
              "  /* unfitted */\n",
              "  background-color: var(--sklearn-color-unfitted-level-2);\n",
              "}\n",
              "\n",
              "#sk-container-id-1 div.sk-estimator.fitted input.sk-toggleable__control:checked~label.sk-toggleable__label {\n",
              "  /* fitted */\n",
              "  background-color: var(--sklearn-color-fitted-level-2);\n",
              "}\n",
              "\n",
              "#sk-container-id-1 div.sk-label label.sk-toggleable__label,\n",
              "#sk-container-id-1 div.sk-label label {\n",
              "  /* The background is the default theme color */\n",
              "  color: var(--sklearn-color-text-on-default-background);\n",
              "}\n",
              "\n",
              "/* On hover, darken the color of the background */\n",
              "#sk-container-id-1 div.sk-label:hover label.sk-toggleable__label {\n",
              "  color: var(--sklearn-color-text);\n",
              "  background-color: var(--sklearn-color-unfitted-level-2);\n",
              "}\n",
              "\n",
              "/* Label box, darken color on hover, fitted */\n",
              "#sk-container-id-1 div.sk-label.fitted:hover label.sk-toggleable__label.fitted {\n",
              "  color: var(--sklearn-color-text);\n",
              "  background-color: var(--sklearn-color-fitted-level-2);\n",
              "}\n",
              "\n",
              "/* Estimator label */\n",
              "\n",
              "#sk-container-id-1 div.sk-label label {\n",
              "  font-family: monospace;\n",
              "  font-weight: bold;\n",
              "  display: inline-block;\n",
              "  line-height: 1.2em;\n",
              "}\n",
              "\n",
              "#sk-container-id-1 div.sk-label-container {\n",
              "  text-align: center;\n",
              "}\n",
              "\n",
              "/* Estimator-specific */\n",
              "#sk-container-id-1 div.sk-estimator {\n",
              "  font-family: monospace;\n",
              "  border: 1px dotted var(--sklearn-color-border-box);\n",
              "  border-radius: 0.25em;\n",
              "  box-sizing: border-box;\n",
              "  margin-bottom: 0.5em;\n",
              "  /* unfitted */\n",
              "  background-color: var(--sklearn-color-unfitted-level-0);\n",
              "}\n",
              "\n",
              "#sk-container-id-1 div.sk-estimator.fitted {\n",
              "  /* fitted */\n",
              "  background-color: var(--sklearn-color-fitted-level-0);\n",
              "}\n",
              "\n",
              "/* on hover */\n",
              "#sk-container-id-1 div.sk-estimator:hover {\n",
              "  /* unfitted */\n",
              "  background-color: var(--sklearn-color-unfitted-level-2);\n",
              "}\n",
              "\n",
              "#sk-container-id-1 div.sk-estimator.fitted:hover {\n",
              "  /* fitted */\n",
              "  background-color: var(--sklearn-color-fitted-level-2);\n",
              "}\n",
              "\n",
              "/* Specification for estimator info (e.g. \"i\" and \"?\") */\n",
              "\n",
              "/* Common style for \"i\" and \"?\" */\n",
              "\n",
              ".sk-estimator-doc-link,\n",
              "a:link.sk-estimator-doc-link,\n",
              "a:visited.sk-estimator-doc-link {\n",
              "  float: right;\n",
              "  font-size: smaller;\n",
              "  line-height: 1em;\n",
              "  font-family: monospace;\n",
              "  background-color: var(--sklearn-color-background);\n",
              "  border-radius: 1em;\n",
              "  height: 1em;\n",
              "  width: 1em;\n",
              "  text-decoration: none !important;\n",
              "  margin-left: 0.5em;\n",
              "  text-align: center;\n",
              "  /* unfitted */\n",
              "  border: var(--sklearn-color-unfitted-level-1) 1pt solid;\n",
              "  color: var(--sklearn-color-unfitted-level-1);\n",
              "}\n",
              "\n",
              ".sk-estimator-doc-link.fitted,\n",
              "a:link.sk-estimator-doc-link.fitted,\n",
              "a:visited.sk-estimator-doc-link.fitted {\n",
              "  /* fitted */\n",
              "  border: var(--sklearn-color-fitted-level-1) 1pt solid;\n",
              "  color: var(--sklearn-color-fitted-level-1);\n",
              "}\n",
              "\n",
              "/* On hover */\n",
              "div.sk-estimator:hover .sk-estimator-doc-link:hover,\n",
              ".sk-estimator-doc-link:hover,\n",
              "div.sk-label-container:hover .sk-estimator-doc-link:hover,\n",
              ".sk-estimator-doc-link:hover {\n",
              "  /* unfitted */\n",
              "  background-color: var(--sklearn-color-unfitted-level-3);\n",
              "  color: var(--sklearn-color-background);\n",
              "  text-decoration: none;\n",
              "}\n",
              "\n",
              "div.sk-estimator.fitted:hover .sk-estimator-doc-link.fitted:hover,\n",
              ".sk-estimator-doc-link.fitted:hover,\n",
              "div.sk-label-container:hover .sk-estimator-doc-link.fitted:hover,\n",
              ".sk-estimator-doc-link.fitted:hover {\n",
              "  /* fitted */\n",
              "  background-color: var(--sklearn-color-fitted-level-3);\n",
              "  color: var(--sklearn-color-background);\n",
              "  text-decoration: none;\n",
              "}\n",
              "\n",
              "/* Span, style for the box shown on hovering the info icon */\n",
              ".sk-estimator-doc-link span {\n",
              "  display: none;\n",
              "  z-index: 9999;\n",
              "  position: relative;\n",
              "  font-weight: normal;\n",
              "  right: .2ex;\n",
              "  padding: .5ex;\n",
              "  margin: .5ex;\n",
              "  width: min-content;\n",
              "  min-width: 20ex;\n",
              "  max-width: 50ex;\n",
              "  color: var(--sklearn-color-text);\n",
              "  box-shadow: 2pt 2pt 4pt #999;\n",
              "  /* unfitted */\n",
              "  background: var(--sklearn-color-unfitted-level-0);\n",
              "  border: .5pt solid var(--sklearn-color-unfitted-level-3);\n",
              "}\n",
              "\n",
              ".sk-estimator-doc-link.fitted span {\n",
              "  /* fitted */\n",
              "  background: var(--sklearn-color-fitted-level-0);\n",
              "  border: var(--sklearn-color-fitted-level-3);\n",
              "}\n",
              "\n",
              ".sk-estimator-doc-link:hover span {\n",
              "  display: block;\n",
              "}\n",
              "\n",
              "/* \"?\"-specific style due to the `<a>` HTML tag */\n",
              "\n",
              "#sk-container-id-1 a.estimator_doc_link {\n",
              "  float: right;\n",
              "  font-size: 1rem;\n",
              "  line-height: 1em;\n",
              "  font-family: monospace;\n",
              "  background-color: var(--sklearn-color-background);\n",
              "  border-radius: 1rem;\n",
              "  height: 1rem;\n",
              "  width: 1rem;\n",
              "  text-decoration: none;\n",
              "  /* unfitted */\n",
              "  color: var(--sklearn-color-unfitted-level-1);\n",
              "  border: var(--sklearn-color-unfitted-level-1) 1pt solid;\n",
              "}\n",
              "\n",
              "#sk-container-id-1 a.estimator_doc_link.fitted {\n",
              "  /* fitted */\n",
              "  border: var(--sklearn-color-fitted-level-1) 1pt solid;\n",
              "  color: var(--sklearn-color-fitted-level-1);\n",
              "}\n",
              "\n",
              "/* On hover */\n",
              "#sk-container-id-1 a.estimator_doc_link:hover {\n",
              "  /* unfitted */\n",
              "  background-color: var(--sklearn-color-unfitted-level-3);\n",
              "  color: var(--sklearn-color-background);\n",
              "  text-decoration: none;\n",
              "}\n",
              "\n",
              "#sk-container-id-1 a.estimator_doc_link.fitted:hover {\n",
              "  /* fitted */\n",
              "  background-color: var(--sklearn-color-fitted-level-3);\n",
              "}\n",
              "</style><div id=\"sk-container-id-1\" class=\"sk-top-container\"><div class=\"sk-text-repr-fallback\"><pre>LinearRegression()</pre><b>In a Jupyter environment, please rerun this cell to show the HTML representation or trust the notebook. <br />On GitHub, the HTML representation is unable to render, please try loading this page with nbviewer.org.</b></div><div class=\"sk-container\" hidden><div class=\"sk-item\"><div class=\"sk-estimator fitted sk-toggleable\"><input class=\"sk-toggleable__control sk-hidden--visually\" id=\"sk-estimator-id-1\" type=\"checkbox\" checked><label for=\"sk-estimator-id-1\" class=\"sk-toggleable__label fitted sk-toggleable__label-arrow\"><div><div>LinearRegression</div></div><div><a class=\"sk-estimator-doc-link fitted\" rel=\"noreferrer\" target=\"_blank\" href=\"https://scikit-learn.org/1.6/modules/generated/sklearn.linear_model.LinearRegression.html\">?<span>Documentation for LinearRegression</span></a><span class=\"sk-estimator-doc-link fitted\">i<span>Fitted</span></span></div></label><div class=\"sk-toggleable__content fitted\"><pre>LinearRegression()</pre></div> </div></div></div></div>"
            ]
          },
          "metadata": {},
          "execution_count": 34
        }
      ]
    },
    {
      "cell_type": "markdown",
      "source": [
        "## 4. ทำนายผลลัพธ์"
      ],
      "metadata": {
        "id": "NZ30D9MEH3FO"
      }
    },
    {
      "cell_type": "code",
      "source": [
        "y_pred = model.predict(X_test)"
      ],
      "metadata": {
        "id": "TdEBi9nhHpwL"
      },
      "execution_count": 35,
      "outputs": []
    },
    {
      "cell_type": "markdown",
      "source": [
        "## 5. ประเมินผลโมเดล"
      ],
      "metadata": {
        "id": "Pd_rdMQxH-bz"
      }
    },
    {
      "cell_type": "code",
      "source": [
        "mse = mean_squared_error(y_test, y_pred)\n",
        "r2 = r2_score(y_test, y_pred)\n",
        "print(f\"Mean Squared Error: {mse}\")\n",
        "print(f\"R-squared: {r2}\")"
      ],
      "metadata": {
        "colab": {
          "base_uri": "https://localhost:8080/"
        },
        "id": "JCE27t8-H5N_",
        "outputId": "8c9f7c7d-53ce-4b11-8fc9-aa10035a2c7d"
      },
      "execution_count": 37,
      "outputs": [
        {
          "output_type": "stream",
          "name": "stdout",
          "text": [
            "Mean Squared Error: 1.19016149626678e-21\n",
            "R-squared: 1.0\n"
          ]
        }
      ]
    },
    {
      "cell_type": "code",
      "source": [],
      "metadata": {
        "id": "yOKgs-anK4Tj"
      },
      "execution_count": null,
      "outputs": []
    }
  ]
}